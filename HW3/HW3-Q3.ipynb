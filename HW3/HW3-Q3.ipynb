{
 "cells": [
  {
   "cell_type": "code",
   "execution_count": null,
   "metadata": {},
   "outputs": [],
   "source": [
    "import cv2 as cv \n",
    "import numpy as np\n",
    "import matplotlib.pyplot as plt\n",
    "import math\n",
    "\n",
    "img1 = cv.imread('clown.tif' , 0)\n",
    "img2 = cv.imread('mandrill.tif' , 0)\n",
    "\n",
    "#fft transform for image 1 : clown\n",
    "dft1 = cv.dft(np.float32(img1),flags = cv.DFT_COMPLEX_OUTPUT)\n",
    "dft_shift1 = np.fft.fftshift(dft1)\n",
    "\n",
    "# magnitude spectrum and transform\n",
    "mag1, phase1 = cv.cartToPolar(dft_shift1[:,:,0], dft_shift1[:,:,1])\n",
    "\n",
    "cv.imshow('spercture1' , np.log(mag1)/20)\n",
    "cv.imshow('phase1' , phase1)\n",
    "\n",
    "#fft transform for image 2 : mandrill\n",
    "dft2 = cv.dft(np.float32(img2),flags = cv.DFT_COMPLEX_OUTPUT)\n",
    "dft_shift2 = np.fft.fftshift(dft2)\n",
    "\n",
    "# magnitude spectrum and transform\n",
    "mag2, phase2 = cv.cartToPolar(dft_shift2[:,:,0], dft_shift2[:,:,1])\n",
    "\n",
    "cv.imshow('spercture2' , np.log(mag2)/20)\n",
    "cv.imshow('phase2' , phase2)\n",
    "\n",
    "\n",
    "# make new image from switching phases of two image that we have\n",
    "real1, imag1 = cv.polarToCart(mag1, phase2)\n",
    "back1 = cv.merge([real1, imag1])\n",
    "back1_ishift = np.fft.ifftshift(back1)\n",
    "img_back1 = cv.idft(back1_ishift)\n",
    "img_back1 = cv.magnitude(img_back1[:,:,0], img_back1[:,:,1])\n",
    "\n",
    "# re-normalize to 8-bits\n",
    "img_back1 = cv.normalize(img_back1, None, alpha=0, beta=255, norm_type=cv.NORM_MINMAX, dtype=cv.CV_8U)\n",
    "\n",
    "# make new image from switching phases of two image that we have\n",
    "real2, imag2 = cv.polarToCart(mag2, phase1)\n",
    "back2 = cv.merge([real2, imag2])\n",
    "back2_ishift = np.fft.ifftshift(back2)\n",
    "img_back2 = cv.idft(back2_ishift)\n",
    "img_back2 = cv.magnitude(img_back2[:,:,0], img_back2[:,:,1])\n",
    "\n",
    "# re-normalize to 8-bits\n",
    "img_back2 = cv.normalize(img_back2, None, alpha=0, beta=255, norm_type=cv.NORM_MINMAX, dtype=cv.CV_8U)\n",
    "\n",
    "\n",
    "cv.imshow('clown' , img1)\n",
    "cv.imshow('clown with new phase' , img_back1)\n",
    "cv.imshow('mandrill' , img2)\n",
    "cv.imshow('mandrill with new phase' , img_back2)\n",
    "\n",
    "cv.waitKey(0)\n",
    "cv.destroyAllWindows()"
   ]
  },
  {
   "cell_type": "code",
   "execution_count": null,
   "metadata": {},
   "outputs": [],
   "source": []
  }
 ],
 "metadata": {
  "kernelspec": {
   "display_name": "Python 3",
   "language": "python",
   "name": "python3"
  },
  "language_info": {
   "codemirror_mode": {
    "name": "ipython",
    "version": 3
   },
   "file_extension": ".py",
   "mimetype": "text/x-python",
   "name": "python",
   "nbconvert_exporter": "python",
   "pygments_lexer": "ipython3",
   "version": "3.7.4"
  }
 },
 "nbformat": 4,
 "nbformat_minor": 4
}
