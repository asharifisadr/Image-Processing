{
 "cells": [
  {
   "cell_type": "code",
   "execution_count": 17,
   "metadata": {},
   "outputs": [],
   "source": [
    "import cv2 as cv \n",
    "import numpy as np\n",
    "import matplotlib.pyplot as plt\n",
    "import math \n",
    "def filtering(img , filter_type , _filter , D0 ):\n",
    "    rows , cols = img.shape\n",
    "    # making pad zero \n",
    "    pad_img = cv.copyMakeBorder(img , 0 , rows , 0 , cols , cv.BORDER_CONSTANT )\n",
    "    # calculate fft transform\n",
    "    dft = cv.dft(np.float32(pad_img), flags=cv.DFT_COMPLEX_OUTPUT)\n",
    "    dft_shift = np.fft.fftshift(dft)\n",
    "    \n",
    "    \n",
    "    if filter_type == 'ideal':\n",
    "        for u in range(dft_shift.shape[0]):\n",
    "            for v in range(dft_shift.shape[1]):\n",
    "                D = math.sqrt(((u - rows) ** 2) + ((v - cols) ** 2))\n",
    "                if _filter == 'lowpass':\n",
    "                    if D>D0 :\n",
    "                        dft_shift[u, v] = 0\n",
    "                if _filter == 'highpass':\n",
    "                    if D<=D0 :\n",
    "                        dft_shift[u, v] = 0\n",
    "                    \n",
    "    if filter_type == 'Butterworth':\n",
    "        for u in range(dft_shift.shape[0]):\n",
    "            for v in range(dft_shift.shape[1]):\n",
    "                D = math.sqrt(((u - rows) ** 2) + ((v - cols) ** 2))\n",
    "                n=2\n",
    "                if _filter == 'lowpass':\n",
    "                    dft_shift[u, v] = dft_shift[u, v] / (1 + ((D / D0) ** (2 * n)))\n",
    "\n",
    "                if _filter == 'highpass':\n",
    "                    dft_shift[u, v] = dft_shift[u, v] * ((D ** (2 * n)) / ((D0 ** (2 * n)) + (D ** (2 * n))))\n",
    "    \n",
    "        \n",
    "    \n",
    "    if filter_type == 'Gaussian':\n",
    "        for u in range(dft_shift.shape[0]):\n",
    "            for v in range(dft_shift.shape[1]):\n",
    "                D = np.sqrt(((u - rows) ** 2) + ((v - cols) ** 2))\n",
    "                \n",
    "                if _filter == 'lowpass':\n",
    "                    dft_shift[u, v] = dft_shift[u, v] * (np.exp(-(D ** 2) / (2 * D0 ** 2)))\n",
    "\n",
    "                if _filter == 'highpass':\n",
    "                    dft_shift[u, v] = dft_shift[u, v] * (1 - np.exp(-(D ** 2) / (2 * D0 ** 2)))\n",
    "        \n",
    "                \n",
    "    # inverse fft to get new image after filtering        \n",
    "    dft_ishift = np.fft.ifftshift(dft_shift)\n",
    "    img_back = cv.idft(dft_ishift)\n",
    "    img_back = cv.magnitude(img_back[:, :, 0], img_back[:, :, 1])\n",
    "    img_back = cv.normalize(img_back, None, alpha=0, beta=255, norm_type=cv.NORM_MINMAX, dtype=cv.CV_8U)\n",
    "    \n",
    "    # cropping pad image\n",
    "    img_back = img_back[0 : rows , 0 : cols]\n",
    "    return img_back\n",
    "\n",
    "                    \n",
    "\n",
    "img = cv.imread('a.tif' , 0)\n",
    "#cv.imshow('ILP' , filtering(img , 'ideal' , 'lowpass' , 200 ))\n",
    "#cv.imshow('IHP' , filtering(img , 'ideal' , 'highpass' , 200 ))\n",
    "#cv.imshow('BLP' , filtering(img , 'Butterworth' , 'lowpass' ,200 ))\n",
    "#cv.imshow('BHP' , filtering(img , 'Butterworth' , 'highpass' , 200 ))\n",
    "cv.imshow('GLP' , filtering(img , 'Gaussian' , 'lowpass' ,200 ))\n",
    "cv.imshow('GHP' , filtering(img , 'Gaussian' , 'highpass' ,200 ))\n",
    "\n",
    "\n",
    "\n",
    "cv.waitKey(0)\n",
    "cv.destroyAllWindows()"
   ]
  },
  {
   "cell_type": "code",
   "execution_count": 2,
   "metadata": {},
   "outputs": [
    {
     "data": {
      "image/png": "[encoded data removed]",
      "text/plain": [
       "<Figure size 432x288 with 1 Axes>"
      ]
     },
     "metadata": {
      "needs_background": "light"
     },
     "output_type": "display_data"
    }
   ],
   "source": [
    "import cv2 as cv \n",
    "import numpy as np\n",
    "import matplotlib.pyplot as plt\n",
    "import math \n",
    "img = cv.imread('a.tif' , 0)\n",
    "rows , cols = img.shape\n",
    "pad_img = cv.copyMakeBorder(img , 0 , rows , 0 , cols , cv.BORDER_CONSTANT )\n",
    "plt.imshow(pad_img , cmap = 'gray')\n",
    "\n",
    "plt.show()\n",
    "cv.waitKey(0)\n",
    "cv.destroyAllWindows()"
   ]
  },
  {
   "cell_type": "code",
   "execution_count": null,
   "metadata": {},
   "outputs": [],
   "source": []
  }
 ],
 "metadata": {
  "kernelspec": {
   "display_name": "Python 3",
   "language": "python",
   "name": "python3"
  },
  "language_info": {
   "codemirror_mode": {
    "name": "ipython",
    "version": 3
   },
   "file_extension": ".py",
   "mimetype": "text/x-python",
   "name": "python",
   "nbconvert_exporter": "python",
   "pygments_lexer": "ipython3",
   "version": "3.7.4"
  }
 },
 "nbformat": 4,
 "nbformat_minor": 4
}
