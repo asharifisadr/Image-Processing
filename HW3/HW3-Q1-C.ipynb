{
 "cells": [
  {
   "cell_type": "code",
   "execution_count": 1,
   "metadata": {},
   "outputs": [],
   "source": [
    "import cv2 as cv \n",
    "import numpy as np\n",
    "import matplotlib.pyplot as plt\n",
    "import math \n",
    "img = cv.imread('chest.tif' ,0 )\n",
    "\n",
    "# fft transform\n",
    "dft = cv.dft(np.float32(img),flags = cv.DFT_COMPLEX_OUTPUT)\n",
    "dft_shift = np.fft.fftshift(dft)\n",
    "\n",
    "# magnitude spectrum and transform\n",
    "mag, phase = cv.cartToPolar(dft_shift[:,:,0], dft_shift[:,:,1])\n",
    "\n",
    "# make new phase for doing mirror\n",
    "phase=(-1)*phase\n",
    "\n",
    "#making new real and imaginary of furier with new phase\n",
    "real, imag = cv.polarToCart(mag, phase)\n",
    "\n",
    "# mirror image around the center\n",
    "mirror = cv.merge([real, imag])\n",
    "mirror_ishift = np.fft.ifftshift(mirror)\n",
    "img_mirror = cv.idft(mirror_ishift)\n",
    "img_mirror = cv.magnitude(img_mirror[:,:,0], img_mirror[:,:,1])\n",
    "\n",
    "# re-normalize to 8-bits\n",
    "img_mirror = cv.normalize(img_mirror, None, alpha=0, beta=255, norm_type=cv.NORM_MINMAX, dtype=cv.CV_8U)\n",
    "\n",
    "\n",
    "cv.imshow('original image' , img)\n",
    "cv.imshow('mirror around the center' , img_mirror)\n",
    "\n",
    "\n",
    "\n",
    "\n",
    "\n",
    "\n",
    "\n",
    "cv.waitKey(0)\n",
    "cv.destroyAllWindows()"
   ]
  },
  {
   "cell_type": "code",
   "execution_count": null,
   "metadata": {},
   "outputs": [],
   "source": []
  }
 ],
 "metadata": {
  "kernelspec": {
   "display_name": "Python 3",
   "language": "python",
   "name": "python3"
  },
  "language_info": {
   "codemirror_mode": {
    "name": "ipython",
    "version": 3
   },
   "file_extension": ".py",
   "mimetype": "text/x-python",
   "name": "python",
   "nbconvert_exporter": "python",
   "pygments_lexer": "ipython3",
   "version": "3.7.4"
  }
 },
 "nbformat": 4,
 "nbformat_minor": 4
}
