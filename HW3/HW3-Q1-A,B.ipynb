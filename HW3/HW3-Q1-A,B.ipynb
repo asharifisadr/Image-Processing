{
 "cells": [
  {
   "cell_type": "code",
   "execution_count": 1,
   "metadata": {},
   "outputs": [],
   "source": [
    "import cv2 as cv \n",
    "import numpy as np\n",
    "import matplotlib.pyplot as plt\n",
    "import math \n",
    "img = cv.imread('chest.tif' ,0 )\n",
    "\n",
    "# FFT TRANSFORM\n",
    "dft = cv.dft(np.float32(img),flags = cv.DFT_COMPLEX_OUTPUT)\n",
    "dft_shift = np.fft.fftshift(dft)\n",
    "\n",
    "# MAGNITUDE SPERCTRUM AND PHASE\n",
    "mag, phase = cv.cartToPolar(dft_shift[:,:,0], dft_shift[:,:,1])\n",
    "spectrum = np.log(mag)/20\n",
    "\n",
    "\n",
    "# SHIFTING BACK CENTER\n",
    "back_ishift = np.fft.ifftshift(dft_shift)\n",
    "\n",
    "# USE INVERSE FFT TO GET IMAGE BACK\n",
    "img_back = cv.idft(back_ishift)\n",
    "img_back = cv.magnitude(img_back[:,:,0], img_back[:,:,1])\n",
    "img_back = cv.normalize(img_back, None, alpha=0, beta=255, norm_type=cv.NORM_MINMAX, dtype=cv.CV_8U)\n",
    "\n",
    "\n",
    "cv.imshow(\"ORIGINAL\", img)\n",
    "cv.imshow(\"PHASE\", phase)\n",
    "cv.imshow(\"SPECTRUM\", spectrum)\n",
    "cv.imshow(\"INVERSE\", img_back)\n",
    "\n",
    "\n",
    "\n",
    "cv.waitKey(0)\n",
    "cv.destroyAllWindows()"
   ]
  },
  {
   "cell_type": "code",
   "execution_count": null,
   "metadata": {},
   "outputs": [],
   "source": []
  },
  {
   "cell_type": "code",
   "execution_count": null,
   "metadata": {},
   "outputs": [],
   "source": []
  }
 ],
 "metadata": {
  "kernelspec": {
   "display_name": "Python 3",
   "language": "python",
   "name": "python3"
  },
  "language_info": {
   "codemirror_mode": {
    "name": "ipython",
    "version": 3
   },
   "file_extension": ".py",
   "mimetype": "text/x-python",
   "name": "python",
   "nbconvert_exporter": "python",
   "pygments_lexer": "ipython3",
   "version": "3.7.4"
  }
 },
 "nbformat": 4,
 "nbformat_minor": 4
}
