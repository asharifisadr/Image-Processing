{
 "cells": [
  {
   "cell_type": "code",
   "execution_count": 7,
   "metadata": {
    "scrolled": false
   },
   "outputs": [
    {
     "name": "stdout",
     "output_type": "stream",
     "text": [
      "derivative coefficients   [ 2  6 12  0 30 42]\n"
     ]
    },
    {
     "data": {
      "image/png": "[encoded data removed]",
      "text/plain": [
       "<Figure size 432x288 with 1 Axes>"
      ]
     },
     "metadata": {
      "needs_background": "light"
     },
     "output_type": "display_data"
    }
   ],
   "source": [
    "import matplotlib.pyplot as plt\n",
    "import numpy as np\n",
    "\n",
    "\n",
    "def derivative(coef): #  Calculate coefficients derived from polynomial coefficients\n",
    "    dcoef = np.arange(len(coef)-1)\n",
    "    for i in range(1,len(coef)):\n",
    "        dcoef[i-1]=coef[i]*i \n",
    "    return dcoef # coefficints of derivative  \n",
    "\n",
    "def poly(x,coef): # Construct polynomials using existing coefficients\n",
    "    y = 0\n",
    "    for i in range(len(coef)):\n",
    "        y+=coef[i]*(x**i)\n",
    "    return y \n",
    "\n",
    "coef=[1,2,3,4,0,6,7]  # Input coefficients\n",
    "print('derivative coefficients  ',derivative(coef)) # print derivative coefficients\n",
    "dcoef = derivative(coef)\n",
    "x = np.linspace(-100,100, 1000000) # custom range\n",
    "plt.plot(x, poly(x,coef),linestyle='-',color='b',label='polynomial')\n",
    "plt.plot(x, poly(x,dcoef),linestyle='--',color='r',label='first polynomial derivation')\n",
    "plt.xlabel('X')\n",
    "plt.ylabel('Y')\n",
    "plt.title('PLOT')\n",
    "plt.legend(loc='lower right')\n",
    "plt.axis([-10,10,-10,20])\n",
    "plt.show()\n",
    "\n"
   ]
  },
  {
   "cell_type": "code",
   "execution_count": 179,
   "metadata": {
    "scrolled": true
   },
   "outputs": [
    {
     "ename": "TypeError",
     "evalue": "'str' object is not callable",
     "output_type": "error",
     "traceback": [
      "\u001b[1;31m---------------------------------------------------------------------------\u001b[0m",
      "\u001b[1;31mTypeError\u001b[0m                                 Traceback (most recent call last)",
      "\u001b[1;32m<ipython-input-179-bf52207a6180>\u001b[0m in \u001b[0;36m<module>\u001b[1;34m\u001b[0m\n\u001b[1;32m----> 1\u001b[1;33m \u001b[0mplt\u001b[0m\u001b[1;33m.\u001b[0m\u001b[0mxlabel\u001b[0m\u001b[1;33m(\u001b[0m\u001b[1;34m'x'\u001b[0m\u001b[1;33m)\u001b[0m\u001b[1;33m\u001b[0m\u001b[1;33m\u001b[0m\u001b[0m\n\u001b[0m",
      "\u001b[1;31mTypeError\u001b[0m: 'str' object is not callable"
     ]
    }
   ],
   "source": []
  },
  {
   "cell_type": "code",
   "execution_count": null,
   "metadata": {},
   "outputs": [],
   "source": []
  },
  {
   "cell_type": "code",
   "execution_count": null,
   "metadata": {},
   "outputs": [],
   "source": []
  }
 ],
 "metadata": {
  "kernelspec": {
   "display_name": "Python 3",
   "language": "python",
   "name": "python3"
  },
  "language_info": {
   "codemirror_mode": {
    "name": "ipython",
    "version": 3
   },
   "file_extension": ".py",
   "mimetype": "text/x-python",
   "name": "python",
   "nbconvert_exporter": "python",
   "pygments_lexer": "ipython3",
   "version": "3.7.4"
  }
 },
 "nbformat": 4,
 "nbformat_minor": 2
}
