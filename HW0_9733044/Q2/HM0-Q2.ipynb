{
 "cells": [
  {
   "cell_type": "code",
   "execution_count": 21,
   "metadata": {
    "scrolled": true
   },
   "outputs": [
    {
     "name": "stdout",
     "output_type": "stream",
     "text": [
      "123 its not prime number\n"
     ]
    }
   ],
   "source": [
    "def prime(n):\n",
    "    s=0\n",
    "    for i in range(n):\n",
    "        if n%(i+1)==0 :\n",
    "            s+=1\n",
    "    if s==2 :\n",
    "        return(\"its a prime number\")\n",
    "    else:\n",
    "        return(\"its not prime number\")\n",
    "\n",
    "\n",
    "n=4\n",
    "print (n, prime(n)) #4 its not prime number"
   ]
  },
  {
   "cell_type": "code",
   "execution_count": null,
   "metadata": {},
   "outputs": [],
   "source": []
  },
  {
   "cell_type": "code",
   "execution_count": null,
   "metadata": {},
   "outputs": [],
   "source": []
  }
 ],
 "metadata": {
  "kernelspec": {
   "display_name": "Python 3",
   "language": "python",
   "name": "python3"
  },
  "language_info": {
   "codemirror_mode": {
    "name": "ipython",
    "version": 3
   },
   "file_extension": ".py",
   "mimetype": "text/x-python",
   "name": "python",
   "nbconvert_exporter": "python",
   "pygments_lexer": "ipython3",
   "version": "3.7.4"
  }
 },
 "nbformat": 4,
 "nbformat_minor": 2
}
