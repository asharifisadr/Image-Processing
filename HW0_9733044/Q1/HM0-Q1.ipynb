{
 "cells": [
  {
   "cell_type": "code",
   "execution_count": 48,
   "metadata": {},
   "outputs": [
    {
     "name": "stdout",
     "output_type": "stream",
     "text": [
      "result of integral by  Trapezoidal rule   1.5213887791184042\n"
     ]
    }
   ],
   "source": [
    "import numpy as np\n",
    "import math \n",
    "a , b = -3 , 4  # numbers Interval of integration [a,b)\n",
    "h = 0.005 # step\n",
    "s = 0 # sum\n",
    "for x in np.arange(a+h, b, h):\n",
    "      s+=2*math.sin(x*x)\n",
    "\n",
    "s+=math.sin(a*a)\n",
    "t=(s*h)/2 # t is result of integral by  Trapezoidal rule \n",
    "print('result of integral by  Trapezoidal rule  ',t) "
   ]
  },
  {
   "cell_type": "code",
   "execution_count": null,
   "metadata": {},
   "outputs": [],
   "source": []
  },
  {
   "cell_type": "code",
   "execution_count": null,
   "metadata": {},
   "outputs": [],
   "source": []
  }
 ],
 "metadata": {
  "kernelspec": {
   "display_name": "Python 3",
   "language": "python",
   "name": "python3"
  },
  "language_info": {
   "codemirror_mode": {
    "name": "ipython",
    "version": 3
   },
   "file_extension": ".py",
   "mimetype": "text/x-python",
   "name": "python",
   "nbconvert_exporter": "python",
   "pygments_lexer": "ipython3",
   "version": "3.7.4"
  }
 },
 "nbformat": 4,
 "nbformat_minor": 2
}
