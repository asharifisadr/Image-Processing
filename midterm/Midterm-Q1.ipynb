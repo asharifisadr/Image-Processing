{
 "cells": [
  {
   "cell_type": "code",
   "execution_count": 20,
   "metadata": {},
   "outputs": [
    {
     "name": "stdout",
     "output_type": "stream",
     "text": [
      "image size is : (2912, 2912, 3)\n",
      "number of channels is : 3\n",
      "type of image is : uint8\n",
      "image storage is M*N*8 = 67837952\n"
     ]
    },
    {
     "data": {
      "image/png": "[encoded data removed]",
      "text/plain": [
       "<Figure size 432x288 with 1 Axes>"
      ]
     },
     "metadata": {
      "needs_background": "light"
     },
     "output_type": "display_data"
    }
   ],
   "source": [
    "import numpy as np\n",
    "import cv2 as cv\n",
    "import matplotlib.pyplot as plt\n",
    "import math \n",
    "\n",
    "img=cv.imread('retina.jpg')\n",
    "print('image size is :' , img.shape)\n",
    "print('number of channels is :' , len(img.shape))\n",
    "print('type of image is :', img.dtype)\n",
    "#A image storage\n",
    "print ('image storage is M*N*8 =' , img.shape[0]*img.shape[1]*8)\n",
    "img=cv.imread('retina.jpg',0)\n",
    "\n",
    "#B Histogram Plot\n",
    "plt.hist(img.ravel(),256,[0,256]) \n",
    "\n",
    "#C reading sub image image in gary mode and calculate histogram for that\n",
    "img1=cv.imread('retina_sub.jpg',0)\n",
    "h1 = cv.calcHist([img1],[0],None,[256],[0,256])\n",
    "cv.normalize(h1, h1, alpha=0, beta=255, norm_type=cv.NORM_MINMAX)\n",
    "\n",
    "# define some value for calculating diffrence between \"retina\" and \"retina_sub\"'s histograms \n",
    "max = 0 \n",
    "x = 0\n",
    "y = 0\n",
    "# find \"retina_sub\" image in \"retina\" iamge \n",
    "for i in range (0,img.shape[0] - img1.shape[0],100):\n",
    "    for j in range(0,img.shape[1] - img1.shape[1],100):\n",
    "        s = img[i : i + img1.shape[0] , j : j + img1.shape[1]]\n",
    "        h2 = cv.calcHist([s],[0],None,[256],[0,256])\n",
    "        cv.normalize(h2, h2, alpha=0, beta=255, norm_type=cv.NORM_MINMAX)\n",
    "        d = 0\n",
    "        for k in range(len(h2)):\n",
    "            d = d + min(h1[k],h2[k])\n",
    "        if d >= max :\n",
    "            max = d \n",
    "            x = i\n",
    "            y = j\n",
    "\n",
    "s = img[x : x + img1.shape[0] , y : y + img1.shape[1]]\n",
    "cv.imshow('similar image',s)\n",
    "plt.show()\n",
    "cv.waitKey(0)\n",
    "cv.destroyAllWindows()"
   ]
  },
  {
   "cell_type": "code",
   "execution_count": null,
   "metadata": {},
   "outputs": [],
   "source": []
  },
  {
   "cell_type": "code",
   "execution_count": null,
   "metadata": {},
   "outputs": [],
   "source": []
  }
 ],
 "metadata": {
  "kernelspec": {
   "display_name": "Python 3",
   "language": "python",
   "name": "python3"
  },
  "language_info": {
   "codemirror_mode": {
    "name": "ipython",
    "version": 3
   },
   "file_extension": ".py",
   "mimetype": "text/x-python",
   "name": "python",
   "nbconvert_exporter": "python",
   "pygments_lexer": "ipython3",
   "version": "3.7.4"
  }
 },
 "nbformat": 4,
 "nbformat_minor": 4
}
