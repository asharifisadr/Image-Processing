{
 "cells": [
  {
   "cell_type": "code",
   "execution_count": 1,
   "metadata": {},
   "outputs": [],
   "source": [
    "import numpy as np\n",
    "import cv2 as cv\n",
    "\n",
    "cap = cv.VideoCapture('Q_three.AVI')\n",
    "ret, first_frame = cap.read()\n",
    "avg = np.zeros(first_frame.shape, np.float32)\n",
    "k = 0\n",
    "\n",
    "while(cap.isOpened()):\n",
    "\n",
    "    ret, frame = cap.read()\n",
    "    \n",
    "    if ret == True:\n",
    "        avg += frame\n",
    "        k = k+1   \n",
    "   \n",
    "    else:\n",
    "        \n",
    "        break\n",
    "\n",
    "cap.release()\n",
    "cv.destroyAllWindows()\n",
    "\n",
    "avg = avg / k\n",
    "avg = cv.cvtColor(avg, cv.COLOR_BGR2GRAY)\n",
    "avg = np.array(avg, dtype = 'uint8')\n",
    "\n",
    "\n",
    "cap = cv.VideoCapture('Q_three.AVI')\n",
    "ret, first_frame = cap.read()\n",
    "\n",
    "while cap.isOpened():\n",
    "    ret, frame = cap.read()\n",
    "    if ret == True:\n",
    "        gray_frame = cv.cvtColor(frame, cv.COLOR_BGR2GRAY) \n",
    "        difference = cv.absdiff(avg, gray_frame)\n",
    "        difference = cv.threshold(difference, 50, 255, cv.THRESH_BINARY)[1]\n",
    "        #cv.imshow('Difference', difference)\n",
    "        #cv.waitKey(30)  \n",
    "        cv.imshow('diff', difference)\n",
    "        cv.waitKey(30) \n",
    "    \n",
    "        frame[np.where(difference == 255)] = (0, 0, 255)\n",
    "        cv.imshow('frame', frame)\n",
    "        cv.waitKey(30) \n",
    "    else:\n",
    "        break\n",
    "\n",
    "        \n",
    "cap.release()\n",
    "cv.destroyAllWindows()\n",
    "\n",
    "\n",
    "\n",
    "\n",
    "\n",
    "\n",
    "\n"
   ]
  },
  {
   "cell_type": "code",
   "execution_count": null,
   "metadata": {},
   "outputs": [],
   "source": []
  },
  {
   "cell_type": "code",
   "execution_count": null,
   "metadata": {},
   "outputs": [],
   "source": []
  }
 ],
 "metadata": {
  "kernelspec": {
   "display_name": "Python 3",
   "language": "python",
   "name": "python3"
  },
  "language_info": {
   "codemirror_mode": {
    "name": "ipython",
    "version": 3
   },
   "file_extension": ".py",
   "mimetype": "text/x-python",
   "name": "python",
   "nbconvert_exporter": "python",
   "pygments_lexer": "ipython3",
   "version": "3.7.4"
  }
 },
 "nbformat": 4,
 "nbformat_minor": 4
}
