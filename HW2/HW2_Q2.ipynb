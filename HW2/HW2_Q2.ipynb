{
 "cells": [
  {
   "cell_type": "code",
   "execution_count": 4,
   "metadata": {},
   "outputs": [],
   "source": [
    "import cv2 as cv \n",
    "import numpy as np\n",
    "import matplotlib.pyplot as plt\n",
    "\n",
    "\n",
    "# intensity level slicing\n",
    "\n",
    "def reduces_other_gray_level(x):\n",
    "    if x>= 160 and x<=240 :\n",
    "        return 150 \n",
    "    else :\n",
    "        return 20 \n",
    "\n",
    "def preserves_other_gray_level(x):\n",
    "    if x>=100 and x<=165 :\n",
    "        return 200\n",
    "    else :\n",
    "        return x\n",
    "    \n",
    "img = cv.imread('kidney.tif')\n",
    "cv.imshow('original image' , img)\n",
    "\n",
    "vec = np.vectorize(reduces_other_gray_level)\n",
    "img1 = vec(img)\n",
    "img1 =  img1.astype('uint8')\n",
    "cv.imshow('transformation with reduces other gray level' , img1)\n",
    "\n",
    "vec = np.vectorize(preserves_other_gray_level)\n",
    "img2 = vec(img)\n",
    "img2 =  img2.astype('uint8')\n",
    "cv.imshow('transformation with preserves other gray level' , img2)\n",
    "\n",
    "\n",
    "cv.waitKey(0)\n",
    "cv.destroyAllWindows()"
   ]
  },
  {
   "cell_type": "code",
   "execution_count": null,
   "metadata": {},
   "outputs": [],
   "source": []
  },
  {
   "cell_type": "code",
   "execution_count": null,
   "metadata": {},
   "outputs": [],
   "source": []
  },
  {
   "cell_type": "code",
   "execution_count": null,
   "metadata": {},
   "outputs": [],
   "source": []
  },
  {
   "cell_type": "code",
   "execution_count": null,
   "metadata": {},
   "outputs": [],
   "source": []
  }
 ],
 "metadata": {
  "kernelspec": {
   "display_name": "Python 3",
   "language": "python",
   "name": "python3"
  },
  "language_info": {
   "codemirror_mode": {
    "name": "ipython",
    "version": 3
   },
   "file_extension": ".py",
   "mimetype": "text/x-python",
   "name": "python",
   "nbconvert_exporter": "python",
   "pygments_lexer": "ipython3",
   "version": "3.7.4"
  }
 },
 "nbformat": 4,
 "nbformat_minor": 4
}
