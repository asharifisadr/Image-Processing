{
 "cells": [
  {
   "cell_type": "code",
   "execution_count": 168,
   "metadata": {},
   "outputs": [
    {
     "name": "stdout",
     "output_type": "stream",
     "text": [
      "[28, 24, 27, 28, 26, 25, 23, 29, 27, 27, 44, 24, 25, 30, 24, 24, 30, 27, 27, 29, 30, 29, 29, 26, 27, 26, 29, 27, 27, 27, 26, 29, 26, 27, 26, 27, 27, 27, 27, 29, 25, 31, 44, 28, 22, 25, 22, 29, 28, 29, 24, 30, 21, 27, 26, 23, 20, 30, 28, 28, 27, 26, 26, 28, 29, 28, 22, 22, 27, 22, 30, 44, 33, 29, 26, 26, 25, 33, 29, 23, 23, 34, 24, 20, 27, 25, 35, 28, 31, 41, 24, 37, 21, 16, 36, 27]\n"
     ]
    }
   ],
   "source": [
    "import numpy as np\n",
    "import cv2 as cv\n",
    "import matplotlib.pyplot as plt\n",
    "import math \n",
    "\n",
    "\n",
    "#reading image and apply edges detection filter\n",
    "img = cv.imread('redcell.jpeg')\n",
    "gray = cv.cvtColor(img, cv.COLOR_BGR2GRAY)\n",
    "img_blur = cv.medianBlur(gray, 5)\n",
    "\n",
    "#detect circles in image\n",
    "circles = cv.HoughCircles(img_blur, cv.HOUGH_GRADIENT, 1, img.shape[0]/11.5, param1=250, param2=10, minRadius=15, maxRadius=45)\n",
    "\n",
    "if circles is not None:\n",
    "    circles = np.uint16(np.around(circles))\n",
    "    radius = []\n",
    "    for i in range(0, len(circles[0, :])):\n",
    "        radius.append(circles[0, :][i][2])\n",
    "    print(radius)\n",
    "    \n",
    "#define white cells and redcells     \n",
    "for i in circles[0, :]:\n",
    "        # Draw bigger circles(white cells)\n",
    "        if i[2] >42 :\n",
    "            cv.circle(img, (i[0], i[1]), i[2], (0, 0, 255), 2)\n",
    "        \n",
    "        # Draw smaller circles(smaller cells)\n",
    "        else:\n",
    "            cv.circle(img, (i[0], i[1]), i[2], (0, 255, 255), 2)\n",
    "      \n",
    "      \n",
    "\n",
    "\n",
    "\n",
    "\n",
    "\n",
    "\n",
    "cv.imshow('result', img)\n",
    "\n",
    "\n",
    "\n",
    "\n",
    "\n",
    "\n",
    "\n",
    "cv.waitKey(0)\n",
    "cv.destroyAllWindows()"
   ]
  },
  {
   "cell_type": "code",
   "execution_count": null,
   "metadata": {},
   "outputs": [],
   "source": []
  },
  {
   "cell_type": "code",
   "execution_count": null,
   "metadata": {},
   "outputs": [],
   "source": []
  }
 ],
 "metadata": {
  "kernelspec": {
   "display_name": "Python 3",
   "language": "python",
   "name": "python3"
  },
  "language_info": {
   "codemirror_mode": {
    "name": "ipython",
    "version": 3
   },
   "file_extension": ".py",
   "mimetype": "text/x-python",
   "name": "python",
   "nbconvert_exporter": "python",
   "pygments_lexer": "ipython3",
   "version": "3.7.4"
  }
 },
 "nbformat": 4,
 "nbformat_minor": 4
}
