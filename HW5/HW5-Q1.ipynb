{
 "cells": [
  {
   "cell_type": "code",
   "execution_count": 4,
   "metadata": {},
   "outputs": [
    {
     "name": "stdout",
     "output_type": "stream",
     "text": [
      "three points of image 1 \n",
      "67 80\n",
      "115 82\n",
      "91 127\n",
      "three points of image 2\n",
      "345 195\n",
      "258 158\n",
      "249 232\n",
      "[[-3.93442623e-01 -3.72175454e-01  2.75311918e+02]\n",
      " [-2.67759563e-01  5.75542756e-01  6.01462118e+01]]\n"
     ]
    }
   ],
   "source": [
    "import numpy as np\n",
    "import cv2 as cv\n",
    "import matplotlib.pyplot as plt\n",
    "import math \n",
    "\n",
    "# reading image and defining points function \n",
    "def points(img_name,qoordinates):\n",
    "    img = cv.imread(img_name)\n",
    "    cv.imshow('image',img)\n",
    "# select points with click    \n",
    "    def click_event(event, x, y, flags, params):\n",
    "        \n",
    "        if event == cv.EVENT_LBUTTONDOWN: \n",
    "            print(x,y)\n",
    "            qoordinates.append((x,y))\n",
    "           \n",
    "            \n",
    "          \n",
    "\n",
    "            font = cv.FONT_HERSHEY_SIMPLEX \n",
    "            cv.putText(img, str(x) + ',' + str(y), (x,y), font, 0.25, (255, 0, 0), 1) \n",
    "            cv.imshow('image', img)\n",
    "    \n",
    "#selecting poitn while we press \"space\" key                                \n",
    "    while 1:\n",
    "        cv.setMouseCallback('image', click_event) \n",
    "        key = cv.waitKey(0) \n",
    "        if key == 32:\n",
    "            break\n",
    "\n",
    "\n",
    "print('three points of image 1 ')\n",
    "qoordinates1 = []\n",
    "points('MRIF.png' ,qoordinates1 )\n",
    "#making array of points with float32 type \n",
    "qoordinates1 = np.array(qoordinates1 , dtype='float32')\n",
    "\n",
    "print('three points of image 2')\n",
    "qoordinates2 = []\n",
    "points('MRIS.png',qoordinates2)\n",
    "#making array of points with float32 type\n",
    "qoordinates2 = np.array(qoordinates2 , dtype='float32')\n",
    "  \n",
    "#calculate transform function\n",
    "Affine = cv.getAffineTransform(qoordinates2, qoordinates1)\n",
    "print(Affine)\n",
    "\n",
    "#Apply the transform function on the image\n",
    "img = cv.imread('MRIS.png')\n",
    "affine_transform_image= cv.warpAffine(img, Affine, (1000, 1000))\n",
    "cv.imshow('new image', affine_transform_image)\n",
    "cv.waitKey(0)\n",
    "\n",
    "\n",
    "cv.destroyAllWindows()\n",
    "\n",
    "\n"
   ]
  },
  {
   "cell_type": "code",
   "execution_count": null,
   "metadata": {},
   "outputs": [],
   "source": []
  },
  {
   "cell_type": "code",
   "execution_count": null,
   "metadata": {},
   "outputs": [],
   "source": []
  }
 ],
 "metadata": {
  "kernelspec": {
   "display_name": "Python 3",
   "language": "python",
   "name": "python3"
  },
  "language_info": {
   "codemirror_mode": {
    "name": "ipython",
    "version": 3
   },
   "file_extension": ".py",
   "mimetype": "text/x-python",
   "name": "python",
   "nbconvert_exporter": "python",
   "pygments_lexer": "ipython3",
   "version": "3.7.4"
  }
 },
 "nbformat": 4,
 "nbformat_minor": 4
}
