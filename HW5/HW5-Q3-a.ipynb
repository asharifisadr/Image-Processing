{
 "cells": [
  {
   "cell_type": "code",
   "execution_count": 171,
   "metadata": {},
   "outputs": [],
   "source": [
    "import numpy as np\n",
    "import cv2 as cv\n",
    "import matplotlib.pyplot as plt\n",
    "import math \n",
    "\n",
    "#reading image and apply edges detection filter\n",
    "img = cv.imread('surgery.jpeg')\n",
    "gray = cv.cvtColor(img, cv.COLOR_BGR2GRAY)\n",
    "img_blur = cv.medianBlur(gray,11)\n",
    "edges = cv.Canny(img_blur, 50, 100)\n",
    "#cv.imshow('image' , edges)\n",
    "\n",
    "#detect line in image\n",
    "lines = cv.HoughLinesP(edges, 1, np.pi/180 , 50, minLineLength=30 , maxLineGap=10)\n",
    "\n",
    "# Draw lines on the image\n",
    "for line in lines:\n",
    "\n",
    "    x1, y1, x2, y2 = line[0]\n",
    "\n",
    "    cv.line(img, (x1, y1), (x2, y2), (0, 255, 0), 3)\n",
    "\n",
    "# Show result\n",
    "cv.imshow('Image', img)\n",
    "\n",
    "cv.waitKey(0)\n",
    "cv.destroyAllWindows()"
   ]
  },
  {
   "cell_type": "code",
   "execution_count": null,
   "metadata": {},
   "outputs": [],
   "source": []
  },
  {
   "cell_type": "code",
   "execution_count": null,
   "metadata": {},
   "outputs": [],
   "source": []
  }
 ],
 "metadata": {
  "kernelspec": {
   "display_name": "Python 3",
   "language": "python",
   "name": "python3"
  },
  "language_info": {
   "codemirror_mode": {
    "name": "ipython",
    "version": 3
   },
   "file_extension": ".py",
   "mimetype": "text/x-python",
   "name": "python",
   "nbconvert_exporter": "python",
   "pygments_lexer": "ipython3",
   "version": "3.7.4"
  }
 },
 "nbformat": 4,
 "nbformat_minor": 4
}
